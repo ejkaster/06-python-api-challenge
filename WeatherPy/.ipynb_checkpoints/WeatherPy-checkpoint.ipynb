{
 "cells": [
  {
   "cell_type": "markdown",
   "metadata": {},
   "source": [
    "# WeatherPy\n",
    "----\n",
    "\n",
    "#### Note\n",
    "* Instructions have been included for each segment. You do not have to follow them exactly, but they are included to help you think through the steps."
   ]
  },
  {
   "cell_type": "code",
   "execution_count": 1,
   "metadata": {},
   "outputs": [],
   "source": [
    "# Dependencies and Setup\n",
    "import matplotlib.pyplot as plt\n",
    "import pandas as pd\n",
    "import numpy as np\n",
    "import requests\n",
    "import time\n",
    "import scipy.stats as st\n",
    "from scipy.stats import linregress\n",
    "\n",
    "# Import API key\n",
    "from api_keys import weather_api_key\n",
    "\n",
    "# Incorporated citipy to determine city based on latitude and longitude\n",
    "from citipy import citipy\n",
    "\n",
    "# Output File (CSV)\n",
    "output_data_file = \"output_data/cities.csv\"\n",
    "\n",
    "# Range of latitudes and longitudes\n",
    "lat_range = (-90, 90)\n",
    "lng_range = (-180, 180)"
   ]
  },
  {
   "cell_type": "markdown",
   "metadata": {},
   "source": [
    "## Generate Cities List"
   ]
  },
  {
   "cell_type": "code",
   "execution_count": 2,
   "metadata": {},
   "outputs": [
    {
     "data": {
      "text/plain": [
       "627"
      ]
     },
     "execution_count": 2,
     "metadata": {},
     "output_type": "execute_result"
    }
   ],
   "source": [
    "# List for holding lat_lngs and cities\n",
    "lat_lngs = []\n",
    "cities = []\n",
    "\n",
    "# Create a set of random lat and lng combinations\n",
    "lats = np.random.uniform(lat_range[0], lat_range[1], size=1500)\n",
    "lngs = np.random.uniform(lng_range[0], lng_range[1], size=1500)\n",
    "lat_lngs = zip(lats, lngs)\n",
    "\n",
    "# Identify nearest city for each lat, lng combination\n",
    "for lat_lng in lat_lngs:\n",
    "    city = citipy.nearest_city(lat_lng[0], lat_lng[1]).city_name\n",
    "    \n",
    "    # If the city is unique, then add it to a our cities list\n",
    "    if city not in cities:\n",
    "        cities.append(city)\n",
    "\n",
    "# Print the city count to confirm sufficient count\n",
    "len(cities)\n"
   ]
  },
  {
   "cell_type": "markdown",
   "metadata": {},
   "source": [
    "### Perform API Calls\n",
    "* Perform a weather check on each city using a series of successive API calls.\n",
    "* Include a print log of each city as it'sbeing processed (with the city number and city name).\n"
   ]
  },
  {
   "cell_type": "code",
   "execution_count": 3,
   "metadata": {},
   "outputs": [],
   "source": [
    "# Save config information.\n",
    "url = \"http://api.openweathermap.org/data/2.5/weather?\"\n",
    "units = \"imperial\"\n",
    "\n",
    "# Build partial query URL\n",
    "base_url = f\"{url}appid={weather_api_key}&units={units}&q=\""
   ]
  },
  {
   "cell_type": "code",
   "execution_count": 4,
   "metadata": {
    "scrolled": false
   },
   "outputs": [
    {
     "data": {
      "text/plain": [
       "'http://api.openweathermap.org/data/2.5/weather?appid=48ca130e383ad0ad93006ebda4e88ac0&units=imperial&q='"
      ]
     },
     "execution_count": 4,
     "metadata": {},
     "output_type": "execute_result"
    }
   ],
   "source": [
    "base_url"
   ]
  },
  {
   "cell_type": "code",
   "execution_count": 5,
   "metadata": {},
   "outputs": [],
   "source": [
    "query_url = base_url + city"
   ]
  },
  {
   "cell_type": "code",
   "execution_count": 6,
   "metadata": {
    "scrolled": false
   },
   "outputs": [
    {
     "data": {
      "text/plain": [
       "'http://api.openweathermap.org/data/2.5/weather?appid=48ca130e383ad0ad93006ebda4e88ac0&units=imperial&q=mar del plata'"
      ]
     },
     "execution_count": 6,
     "metadata": {},
     "output_type": "execute_result"
    }
   ],
   "source": [
    "query_url"
   ]
  },
  {
   "cell_type": "code",
   "execution_count": 7,
   "metadata": {
    "scrolled": true
   },
   "outputs": [
    {
     "data": {
      "text/plain": [
       "{'cod': '400', 'message': 'Nothing to geocode'}"
      ]
     },
     "execution_count": 7,
     "metadata": {},
     "output_type": "execute_result"
    }
   ],
   "source": [
    "response = requests.get(base_url).json()"
   ]
  },
  {
   "cell_type": "code",
   "execution_count": 8,
   "metadata": {},
   "outputs": [],
   "source": [
    "# List of City data\n",
    "lat = []\n",
    "lon = []\n",
    "temp = []\n",
    "humidity = [] \n",
    "cloudy = []\n",
    "windspee = []\n",
    "count = 0\n",
    "cityname = []\n",
    "dt = []"
   ]
  },
  {
   "cell_type": "code",
   "execution_count": 9,
   "metadata": {},
   "outputs": [
    {
     "name": "stdout",
     "output_type": "stream",
     "text": [
      "Beginning Data Retrival\n",
      "-----------------------------\n",
      "Processing Record 1 of Set 1 | cam ranh\n",
      "Processing Record 2 of Set 1 | norman wells\n",
      "Processing Record 3 of Set 1 | vaini\n",
      "Processing Record 4 of Set 1 | upernavik\n",
      "Processing Record 5 of Set 1 | busselton\n",
      "Processing Record 6 of Set 1 | ghosi\n",
      "Processing Record 7 of Set 1 | mataura\n",
      "Processing Record 8 of Set 1 | pevek\n",
      "Processing Record 9 of Set 1 | labuhan\n",
      "Processing Record 10 of Set 1 | poum\n",
      "Processing Record 11 of Set 1 | ushuaia\n",
      "Processing Record 12 of Set 1 | gat\n",
      "Processing Record 13 of Set 1 | saint george\n",
      "Processing Record 14 of Set 1 | saint-philippe\n",
      "City not found. Skipping...\n",
      "Processing Record 15 of Set 1 | punta arenas\n",
      "Processing Record 16 of Set 1 | carnarvon\n",
      "City not found. Skipping...\n",
      "Processing Record 17 of Set 1 | yellowknife\n",
      "Processing Record 18 of Set 1 | albany\n",
      "Processing Record 19 of Set 1 | bluff\n",
      "Processing Record 20 of Set 1 | hasaki\n",
      "Processing Record 21 of Set 1 | ilulissat\n",
      "Processing Record 22 of Set 1 | kalemie\n",
      "Processing Record 23 of Set 1 | bria\n",
      "Processing Record 24 of Set 1 | hithadhoo\n",
      "Processing Record 25 of Set 1 | raver\n",
      "Processing Record 26 of Set 1 | trofors\n",
      "City not found. Skipping...\n",
      "Processing Record 27 of Set 1 | salym\n",
      "Processing Record 28 of Set 1 | longyearbyen\n",
      "Processing Record 29 of Set 1 | ponta do sol\n",
      "Processing Record 30 of Set 1 | hilo\n",
      "City not found. Skipping...\n",
      "Processing Record 31 of Set 1 | tura\n",
      "Processing Record 32 of Set 1 | mahebourg\n",
      "Processing Record 33 of Set 1 | port elizabeth\n",
      "Processing Record 34 of Set 1 | toktogul\n",
      "Processing Record 35 of Set 1 | chokurdakh\n",
      "Processing Record 36 of Set 1 | aparecida do taboado\n",
      "Processing Record 37 of Set 1 | hobart\n",
      "Processing Record 38 of Set 1 | tuktoyaktuk\n",
      "Processing Record 39 of Set 1 | bethel\n",
      "Processing Record 40 of Set 1 | aykhal\n",
      "Processing Record 41 of Set 1 | yenagoa\n",
      "Processing Record 42 of Set 1 | atuona\n",
      "Processing Record 43 of Set 1 | esperance\n",
      "City not found. Skipping...\n",
      "Processing Record 44 of Set 1 | tynda\n",
      "Processing Record 45 of Set 1 | rikitea\n",
      "Processing Record 46 of Set 1 | bakel\n",
      "Processing Record 47 of Set 1 | barentu\n",
      "Processing Record 48 of Set 1 | svetlyy\n",
      "Processing Record 49 of Set 1 | severo-kurilsk\n",
      "Processing Record 50 of Set 1 | port lincoln\n",
      "Processing Record 0 of Set 2 | vuktyl\n",
      "Processing Record 1 of Set 2 | rantoul\n",
      "Processing Record 2 of Set 2 | bambous virieux\n",
      "City not found. Skipping...\n",
      "Processing Record 3 of Set 2 | nemuro\n",
      "Processing Record 4 of Set 2 | nanortalik\n",
      "Processing Record 5 of Set 2 | ribeira grande\n",
      "Processing Record 6 of Set 2 | cabo san lucas\n",
      "Processing Record 7 of Set 2 | luderitz\n",
      "Processing Record 8 of Set 2 | dikson\n",
      "Processing Record 9 of Set 2 | butaritari\n",
      "Processing Record 10 of Set 2 | guanica\n",
      "Processing Record 11 of Set 2 | qaanaaq\n",
      "City not found. Skipping...\n",
      "City not found. Skipping...\n",
      "Processing Record 12 of Set 2 | victoria\n",
      "Processing Record 13 of Set 2 | itarema\n",
      "Processing Record 14 of Set 2 | thompson\n",
      "Processing Record 15 of Set 2 | maues\n",
      "Processing Record 16 of Set 2 | cherskiy\n",
      "Processing Record 17 of Set 2 | saldanha\n",
      "Processing Record 18 of Set 2 | sergiyevsk\n",
      "Processing Record 19 of Set 2 | paamiut\n",
      "Processing Record 20 of Set 2 | balakhninskiy\n",
      "Processing Record 21 of Set 2 | bay city\n",
      "Processing Record 22 of Set 2 | port alfred\n",
      "Processing Record 23 of Set 2 | hermanus\n",
      "Processing Record 24 of Set 2 | pisco\n",
      "Processing Record 25 of Set 2 | kuala terengganu\n",
      "Processing Record 26 of Set 2 | hamilton\n",
      "Processing Record 27 of Set 2 | san patricio\n",
      "Processing Record 28 of Set 2 | khandbari\n",
      "City not found. Skipping...\n",
      "Processing Record 29 of Set 2 | zhigansk\n",
      "Processing Record 30 of Set 2 | jamestown\n",
      "Processing Record 31 of Set 2 | pangoa\n",
      "Processing Record 32 of Set 2 | castro\n",
      "Processing Record 33 of Set 2 | henties bay\n",
      "Processing Record 34 of Set 2 | sabang\n",
      "Processing Record 35 of Set 2 | volokonovka\n",
      "Processing Record 36 of Set 2 | miyako\n",
      "Processing Record 37 of Set 2 | bucerias\n",
      "Processing Record 38 of Set 2 | naliya\n",
      "Processing Record 39 of Set 2 | verkhnyaya balkariya\n",
      "Processing Record 40 of Set 2 | trelew\n",
      "City not found. Skipping...\n",
      "Processing Record 41 of Set 2 | bredasdorp\n",
      "City not found. Skipping...\n",
      "Processing Record 42 of Set 2 | kavaratti\n",
      "Processing Record 43 of Set 2 | godda\n",
      "Processing Record 44 of Set 2 | namatanai\n",
      "City not found. Skipping...\n",
      "Processing Record 45 of Set 2 | lagoa\n",
      "Processing Record 46 of Set 2 | lompoc\n",
      "Processing Record 47 of Set 2 | bainbridge\n",
      "Processing Record 48 of Set 2 | muriti\n",
      "Processing Record 49 of Set 2 | kudahuvadhoo\n",
      "Processing Record 50 of Set 2 | hambantota\n",
      "Processing Record 0 of Set 3 | benguela\n",
      "Processing Record 1 of Set 3 | zhezkazgan\n",
      "Processing Record 2 of Set 3 | saint-augustin\n",
      "City not found. Skipping...\n",
      "Processing Record 3 of Set 3 | waipawa\n",
      "Processing Record 4 of Set 3 | caravelas\n",
      "Processing Record 5 of Set 3 | bandarbeyla\n",
      "Processing Record 6 of Set 3 | kilcock\n",
      "Processing Record 7 of Set 3 | aklavik\n",
      "Processing Record 8 of Set 3 | evansville\n",
      "Processing Record 9 of Set 3 | mehamn\n",
      "Processing Record 10 of Set 3 | khatanga\n",
      "Processing Record 11 of Set 3 | raton\n",
      "City not found. Skipping...\n",
      "Processing Record 12 of Set 3 | puerto ayora\n",
      "Processing Record 13 of Set 3 | tiznit\n",
      "Processing Record 14 of Set 3 | green river\n",
      "Processing Record 15 of Set 3 | mount isa\n",
      "Processing Record 16 of Set 3 | vardo\n",
      "Processing Record 17 of Set 3 | ixtapa\n",
      "Processing Record 18 of Set 3 | mikkeli\n",
      "Processing Record 19 of Set 3 | cesis\n",
      "Processing Record 20 of Set 3 | methoni\n",
      "Processing Record 21 of Set 3 | talnakh\n",
      "Processing Record 22 of Set 3 | brae\n",
      "Processing Record 23 of Set 3 | georgetown\n",
      "Processing Record 24 of Set 3 | bandikui\n",
      "Processing Record 25 of Set 3 | coahuayana\n",
      "Processing Record 26 of Set 3 | pandan niog\n",
      "Processing Record 27 of Set 3 | charleville-mezieres\n",
      "Processing Record 28 of Set 3 | baft\n",
      "Processing Record 29 of Set 3 | ossora\n",
      "Processing Record 30 of Set 3 | manakara\n",
      "Processing Record 31 of Set 3 | burnie\n",
      "Processing Record 32 of Set 3 | lewistown\n",
      "Processing Record 33 of Set 3 | emilio carranza\n",
      "Processing Record 34 of Set 3 | raga\n",
      "Processing Record 35 of Set 3 | clyde river\n",
      "Processing Record 36 of Set 3 | seymchan\n",
      "City not found. Skipping...\n",
      "Processing Record 37 of Set 3 | kieta\n",
      "Processing Record 38 of Set 3 | rio gallegos\n",
      "Processing Record 39 of Set 3 | maputo\n",
      "Processing Record 40 of Set 3 | edson\n",
      "Processing Record 41 of Set 3 | narsaq\n",
      "Processing Record 42 of Set 3 | elk plain\n",
      "City not found. Skipping...\n",
      "Processing Record 43 of Set 3 | pak phanang\n",
      "Processing Record 44 of Set 3 | buraydah\n",
      "City not found. Skipping...\n",
      "Processing Record 45 of Set 3 | charters towers\n",
      "Processing Record 46 of Set 3 | kawalu\n",
      "Processing Record 47 of Set 3 | dauriya\n",
      "Processing Record 48 of Set 3 | klaksvik\n",
      "Processing Record 49 of Set 3 | bull savanna\n",
      "Processing Record 50 of Set 3 | ambilobe\n",
      "Processing Record 0 of Set 4 | carbonia\n",
      "Processing Record 1 of Set 4 | cape town\n",
      "Processing Record 2 of Set 4 | lakhimpur\n",
      "Processing Record 3 of Set 4 | kruisfontein\n",
      "Processing Record 4 of Set 4 | prince rupert\n",
      "Processing Record 5 of Set 4 | provideniya\n",
      "Processing Record 6 of Set 4 | neuquen\n",
      "Processing Record 7 of Set 4 | alofi\n",
      "Processing Record 8 of Set 4 | aquiraz\n",
      "Processing Record 9 of Set 4 | cansancao\n",
      "Processing Record 10 of Set 4 | salalah\n",
      "Processing Record 11 of Set 4 | pangnirtung\n",
      "Processing Record 12 of Set 4 | abdanan\n",
      "Processing Record 13 of Set 4 | mucurapo\n",
      "Processing Record 14 of Set 4 | camacha\n",
      "Processing Record 15 of Set 4 | boende\n",
      "Processing Record 16 of Set 4 | vila franca do campo\n",
      "Processing Record 17 of Set 4 | kokopo\n",
      "City not found. Skipping...\n",
      "Processing Record 18 of Set 4 | olafsvik\n",
      "Processing Record 19 of Set 4 | bangkalan\n",
      "Processing Record 20 of Set 4 | tiksi\n",
      "Processing Record 21 of Set 4 | tuatapere\n",
      "Processing Record 22 of Set 4 | rocky mountain house\n",
      "Processing Record 23 of Set 4 | kodiak\n",
      "Processing Record 24 of Set 4 | ames\n",
      "Processing Record 25 of Set 4 | statesville\n",
      "Processing Record 26 of Set 4 | konya\n",
      "Processing Record 27 of Set 4 | magistralnyy\n",
      "Processing Record 28 of Set 4 | tasiilaq\n",
      "Processing Record 29 of Set 4 | ingham\n",
      "Processing Record 30 of Set 4 | vidim\n",
      "Processing Record 31 of Set 4 | pombia\n",
      "City not found. Skipping...\n",
      "Processing Record 32 of Set 4 | tawang\n",
      "Processing Record 33 of Set 4 | touros\n"
     ]
    },
    {
     "name": "stdout",
     "output_type": "stream",
     "text": [
      "Processing Record 34 of Set 4 | sendafa\n",
      "Processing Record 35 of Set 4 | lodhikheda\n",
      "Processing Record 36 of Set 4 | shenjiamen\n",
      "Processing Record 37 of Set 4 | taganak\n",
      "Processing Record 38 of Set 4 | eureka\n",
      "Processing Record 39 of Set 4 | cayenne\n",
      "Processing Record 40 of Set 4 | labytnangi\n",
      "Processing Record 41 of Set 4 | limoux\n",
      "Processing Record 42 of Set 4 | lengshuitan\n",
      "Processing Record 43 of Set 4 | kapuskasing\n",
      "Processing Record 44 of Set 4 | airai\n",
      "Processing Record 45 of Set 4 | saskylakh\n",
      "City not found. Skipping...\n",
      "Processing Record 46 of Set 4 | aksu\n",
      "City not found. Skipping...\n",
      "Processing Record 47 of Set 4 | marawi\n",
      "Processing Record 48 of Set 4 | nouadhibou\n",
      "Processing Record 49 of Set 4 | san carlos\n",
      "Processing Record 50 of Set 4 | buala\n",
      "Processing Record 0 of Set 5 | mayo\n",
      "Processing Record 1 of Set 5 | kenai\n",
      "Processing Record 2 of Set 5 | inongo\n",
      "Processing Record 3 of Set 5 | hastings\n",
      "Processing Record 4 of Set 5 | cidreira\n",
      "Processing Record 5 of Set 5 | hofn\n",
      "Processing Record 6 of Set 5 | fort nelson\n",
      "Processing Record 7 of Set 5 | yichang\n",
      "Processing Record 8 of Set 5 | gambela\n",
      "Processing Record 9 of Set 5 | manado\n",
      "City not found. Skipping...\n",
      "Processing Record 10 of Set 5 | havoysund\n",
      "Processing Record 11 of Set 5 | green valley\n",
      "Processing Record 12 of Set 5 | gorontalo\n",
      "Processing Record 13 of Set 5 | taoudenni\n",
      "Processing Record 14 of Set 5 | maldonado\n",
      "Processing Record 15 of Set 5 | nikolskoye\n",
      "City not found. Skipping...\n",
      "Processing Record 16 of Set 5 | sao joao da barra\n",
      "Processing Record 17 of Set 5 | maceio\n",
      "Processing Record 18 of Set 5 | araouane\n",
      "Processing Record 19 of Set 5 | kirkuk\n",
      "Processing Record 20 of Set 5 | new norfolk\n",
      "Processing Record 21 of Set 5 | katsuura\n",
      "City not found. Skipping...\n",
      "City not found. Skipping...\n",
      "Processing Record 22 of Set 5 | torbay\n",
      "Processing Record 23 of Set 5 | portland\n",
      "Processing Record 24 of Set 5 | tautira\n",
      "Processing Record 25 of Set 5 | vostok\n",
      "Processing Record 26 of Set 5 | sile\n",
      "Processing Record 27 of Set 5 | katobu\n",
      "Processing Record 28 of Set 5 | high level\n",
      "Processing Record 29 of Set 5 | marck\n",
      "Processing Record 30 of Set 5 | ures\n",
      "Processing Record 31 of Set 5 | ovalle\n",
      "Processing Record 32 of Set 5 | bengkulu\n",
      "Processing Record 33 of Set 5 | allanridge\n",
      "Processing Record 34 of Set 5 | lebu\n",
      "Processing Record 35 of Set 5 | roswell\n",
      "Processing Record 36 of Set 5 | sao felix do xingu\n",
      "Processing Record 37 of Set 5 | atar\n",
      "Processing Record 38 of Set 5 | terrace\n",
      "City not found. Skipping...\n",
      "Processing Record 39 of Set 5 | odweyne\n",
      "Processing Record 40 of Set 5 | kavieng\n",
      "Processing Record 41 of Set 5 | asau\n",
      "Processing Record 42 of Set 5 | barrow\n",
      "Processing Record 43 of Set 5 | avarua\n",
      "Processing Record 44 of Set 5 | richards bay\n",
      "Processing Record 45 of Set 5 | malaryta\n",
      "City not found. Skipping...\n",
      "Processing Record 46 of Set 5 | miri\n",
      "Processing Record 47 of Set 5 | constitucion\n",
      "Processing Record 48 of Set 5 | aksakovo\n",
      "Processing Record 49 of Set 5 | sakakah\n",
      "Processing Record 50 of Set 5 | chuy\n",
      "Processing Record 0 of Set 6 | vila velha\n",
      "Processing Record 1 of Set 6 | kalutara\n",
      "Processing Record 2 of Set 6 | port shepstone\n",
      "Processing Record 3 of Set 6 | oranjemund\n",
      "Processing Record 4 of Set 6 | hami\n",
      "Processing Record 5 of Set 6 | chake chake\n",
      "Processing Record 6 of Set 6 | wawa\n",
      "Processing Record 7 of Set 6 | beyneu\n",
      "Processing Record 8 of Set 6 | te anau\n",
      "Processing Record 9 of Set 6 | parabel\n",
      "Processing Record 10 of Set 6 | stolin\n",
      "Processing Record 11 of Set 6 | sept-iles\n",
      "Processing Record 12 of Set 6 | kapaa\n",
      "Processing Record 13 of Set 6 | porto walter\n",
      "Processing Record 14 of Set 6 | east london\n",
      "Processing Record 15 of Set 6 | xixiang\n",
      "City not found. Skipping...\n",
      "Processing Record 16 of Set 6 | san policarpo\n",
      "Processing Record 17 of Set 6 | diamantino\n",
      "Processing Record 18 of Set 6 | bambanglipuro\n",
      "Processing Record 19 of Set 6 | kulhudhuffushi\n",
      "Processing Record 20 of Set 6 | edd\n",
      "Processing Record 21 of Set 6 | acarau\n",
      "Processing Record 22 of Set 6 | mulege\n",
      "Processing Record 23 of Set 6 | iqaluit\n",
      "Processing Record 24 of Set 6 | uribia\n",
      "Processing Record 25 of Set 6 | bismarck\n",
      "Processing Record 26 of Set 6 | evensk\n",
      "Processing Record 27 of Set 6 | anjar\n",
      "Processing Record 28 of Set 6 | port blair\n",
      "Processing Record 29 of Set 6 | nome\n",
      "Processing Record 30 of Set 6 | polson\n",
      "Processing Record 31 of Set 6 | fairbanks\n",
      "Processing Record 32 of Set 6 | jacareacanga\n",
      "Processing Record 33 of Set 6 | sherlovaya gora\n",
      "Processing Record 34 of Set 6 | faanui\n",
      "Processing Record 35 of Set 6 | rabak\n",
      "Processing Record 36 of Set 6 | port macquarie\n",
      "Processing Record 37 of Set 6 | millinocket\n",
      "City not found. Skipping...\n",
      "Processing Record 38 of Set 6 | baependi\n",
      "Processing Record 39 of Set 6 | costinesti\n",
      "Processing Record 40 of Set 6 | sagua la grande\n",
      "City not found. Skipping...\n",
      "Processing Record 41 of Set 6 | dombarovskiy\n",
      "Processing Record 42 of Set 6 | warah\n",
      "Processing Record 43 of Set 6 | visnes\n",
      "Processing Record 44 of Set 6 | dukat\n",
      "Processing Record 45 of Set 6 | goderich\n",
      "Processing Record 46 of Set 6 | axim\n",
      "City not found. Skipping...\n",
      "Processing Record 47 of Set 6 | veraval\n",
      "Processing Record 48 of Set 6 | port-gentil\n",
      "Processing Record 49 of Set 6 | nanyamba\n",
      "Processing Record 50 of Set 6 | fortuna\n",
      "Processing Record 0 of Set 7 | leningradskiy\n",
      "Processing Record 1 of Set 7 | amapa\n",
      "Processing Record 2 of Set 7 | vestmannaeyjar\n",
      "Processing Record 3 of Set 7 | marsh harbour\n",
      "Processing Record 4 of Set 7 | geraldton\n",
      "Processing Record 5 of Set 7 | cockburn town\n",
      "Processing Record 6 of Set 7 | nyurba\n",
      "Processing Record 7 of Set 7 | san pedro\n",
      "City not found. Skipping...\n",
      "Processing Record 8 of Set 7 | comodoro rivadavia\n",
      "Processing Record 9 of Set 7 | huanren\n",
      "Processing Record 10 of Set 7 | quang ngai\n",
      "Processing Record 11 of Set 7 | lorengau\n",
      "Processing Record 12 of Set 7 | beidao\n",
      "Processing Record 13 of Set 7 | menongue\n",
      "City not found. Skipping...\n",
      "Processing Record 14 of Set 7 | umm lajj\n",
      "Processing Record 15 of Set 7 | arraial do cabo\n",
      "Processing Record 16 of Set 7 | liberty\n",
      "Processing Record 17 of Set 7 | padang\n",
      "Processing Record 18 of Set 7 | mancio lima\n",
      "Processing Record 19 of Set 7 | exu\n",
      "Processing Record 20 of Set 7 | jiblah\n",
      "Processing Record 21 of Set 7 | valer\n",
      "Processing Record 22 of Set 7 | gamba\n",
      "Processing Record 23 of Set 7 | ahipara\n",
      "Processing Record 24 of Set 7 | nantucket\n",
      "Processing Record 25 of Set 7 | jamsa\n",
      "Processing Record 26 of Set 7 | owando\n",
      "City not found. Skipping...\n",
      "Processing Record 27 of Set 7 | itupiranga\n",
      "Processing Record 28 of Set 7 | harlingen\n",
      "Processing Record 29 of Set 7 | moctezuma\n",
      "Processing Record 30 of Set 7 | cap malheureux\n",
      "Processing Record 31 of Set 7 | lasa\n",
      "Processing Record 32 of Set 7 | codrington\n",
      "City not found. Skipping...\n",
      "Processing Record 33 of Set 7 | acapulco\n",
      "Processing Record 34 of Set 7 | ancud\n",
      "City not found. Skipping...\n",
      "Processing Record 35 of Set 7 | pacific grove\n",
      "Processing Record 36 of Set 7 | gladstone\n",
      "Processing Record 37 of Set 7 | mujiayingzi\n",
      "Processing Record 38 of Set 7 | maniitsoq\n",
      "Processing Record 39 of Set 7 | kidal\n",
      "Processing Record 40 of Set 7 | xuddur\n",
      "Processing Record 41 of Set 7 | palmer\n",
      "Processing Record 42 of Set 7 | beringovskiy\n",
      "Processing Record 43 of Set 7 | bonthe\n",
      "Processing Record 44 of Set 7 | ponta delgada\n",
      "Processing Record 45 of Set 7 | robertsport\n",
      "Processing Record 46 of Set 7 | kupang\n",
      "Processing Record 47 of Set 7 | tsabong\n",
      "Processing Record 48 of Set 7 | pangkalanbuun\n",
      "Processing Record 49 of Set 7 | mount gambier\n",
      "Processing Record 50 of Set 7 | mabaruma\n",
      "Processing Record 0 of Set 8 | half moon bay\n",
      "Processing Record 1 of Set 8 | monte patria\n",
      "Processing Record 2 of Set 8 | lyuban\n",
      "Processing Record 3 of Set 8 | brindisi\n",
      "City not found. Skipping...\n",
      "Processing Record 4 of Set 8 | svetlogorsk\n",
      "Processing Record 5 of Set 8 | berlevag\n",
      "Processing Record 6 of Set 8 | ucluelet\n",
      "Processing Record 7 of Set 8 | sitka\n",
      "Processing Record 8 of Set 8 | auki\n",
      "Processing Record 9 of Set 8 | virginia beach\n",
      "Processing Record 10 of Set 8 | husavik\n",
      "Processing Record 11 of Set 8 | ostrovnoy\n",
      "Processing Record 12 of Set 8 | namibe\n",
      "Processing Record 13 of Set 8 | biryusinsk\n",
      "Processing Record 14 of Set 8 | lichuan\n",
      "Processing Record 15 of Set 8 | cabedelo\n",
      "City not found. Skipping...\n",
      "Processing Record 16 of Set 8 | asmara\n"
     ]
    },
    {
     "name": "stdout",
     "output_type": "stream",
     "text": [
      "Processing Record 17 of Set 8 | rochegda\n",
      "Processing Record 18 of Set 8 | rocha\n",
      "City not found. Skipping...\n",
      "Processing Record 19 of Set 8 | tallahassee\n",
      "Processing Record 20 of Set 8 | tsiroanomandidy\n",
      "Processing Record 21 of Set 8 | matagami\n",
      "City not found. Skipping...\n",
      "Processing Record 22 of Set 8 | vanimo\n",
      "Processing Record 23 of Set 8 | morro bay\n",
      "Processing Record 24 of Set 8 | inhambane\n",
      "Processing Record 25 of Set 8 | rostovka\n",
      "City not found. Skipping...\n",
      "Processing Record 26 of Set 8 | guangyuan\n",
      "Processing Record 27 of Set 8 | qandala\n",
      "Processing Record 28 of Set 8 | lodja\n",
      "Processing Record 29 of Set 8 | makinsk\n",
      "Processing Record 30 of Set 8 | tadine\n",
      "Processing Record 31 of Set 8 | beaverlodge\n",
      "Processing Record 32 of Set 8 | doha\n",
      "Processing Record 33 of Set 8 | mar del plata\n",
      "City not found. Skipping...\n",
      "Processing Record 34 of Set 8 | ulladulla\n",
      "Processing Record 35 of Set 8 | laguna\n",
      "Processing Record 36 of Set 8 | san cristobal\n",
      "Processing Record 37 of Set 8 | santa ana\n",
      "Processing Record 38 of Set 8 | kununurra\n",
      "Processing Record 39 of Set 8 | puerto baquerizo moreno\n",
      "Processing Record 40 of Set 8 | newton\n",
      "Processing Record 41 of Set 8 | kautokeino\n",
      "Processing Record 42 of Set 8 | langenthal\n",
      "Processing Record 43 of Set 8 | phalodi\n",
      "Processing Record 44 of Set 8 | gazanjyk\n",
      "Processing Record 45 of Set 8 | tabou\n",
      "Processing Record 46 of Set 8 | dzialdowo\n",
      "Processing Record 47 of Set 8 | nuuk\n",
      "Processing Record 48 of Set 8 | dubbo\n",
      "City not found. Skipping...\n",
      "Processing Record 49 of Set 8 | erenhot\n",
      "Processing Record 50 of Set 8 | ayan\n",
      "Processing Record 0 of Set 9 | safaga\n",
      "Processing Record 1 of Set 9 | tevaitoa\n",
      "Processing Record 2 of Set 9 | yeniseysk\n",
      "Processing Record 3 of Set 9 | marzuq\n",
      "Processing Record 4 of Set 9 | porto novo\n",
      "Processing Record 5 of Set 9 | clausthal-zellerfeld\n",
      "Processing Record 6 of Set 9 | sorland\n",
      "Processing Record 7 of Set 9 | xichang\n",
      "Processing Record 8 of Set 9 | suntar\n",
      "Processing Record 9 of Set 9 | bafoulabe\n",
      "Processing Record 10 of Set 9 | haines junction\n",
      "Processing Record 11 of Set 9 | gunjur\n",
      "Processing Record 12 of Set 9 | solnechnyy\n",
      "Processing Record 13 of Set 9 | orlik\n",
      "Processing Record 14 of Set 9 | dunedin\n",
      "Processing Record 15 of Set 9 | kachug\n",
      "Processing Record 16 of Set 9 | balingasay\n",
      "Processing Record 17 of Set 9 | avanigadda\n",
      "City not found. Skipping...\n",
      "Processing Record 18 of Set 9 | anadyr\n",
      "Processing Record 19 of Set 9 | ponta pora\n",
      "Processing Record 20 of Set 9 | casablanca\n",
      "Processing Record 21 of Set 9 | igurusi\n",
      "Processing Record 22 of Set 9 | roald\n",
      "City not found. Skipping...\n",
      "Processing Record 23 of Set 9 | bathsheba\n",
      "Processing Record 24 of Set 9 | chicama\n",
      "Processing Record 25 of Set 9 | purna\n",
      "Processing Record 26 of Set 9 | krasnovishersk\n",
      "Processing Record 27 of Set 9 | nhulunbuy\n",
      "Processing Record 28 of Set 9 | liverpool\n",
      "Processing Record 29 of Set 9 | tha mai\n",
      "Processing Record 30 of Set 9 | gornopravdinsk\n",
      "Processing Record 31 of Set 9 | payakumbuh\n",
      "Processing Record 32 of Set 9 | shimoda\n",
      "Processing Record 33 of Set 9 | totma\n",
      "Processing Record 34 of Set 9 | steinbach\n",
      "Processing Record 35 of Set 9 | chapais\n",
      "Processing Record 36 of Set 9 | arlit\n",
      "Processing Record 37 of Set 9 | trinidad\n",
      "Processing Record 38 of Set 9 | sinjar\n",
      "Processing Record 39 of Set 9 | arvika\n",
      "Processing Record 40 of Set 9 | komatipoort\n",
      "Processing Record 41 of Set 9 | belaya kholunitsa\n",
      "Processing Record 42 of Set 9 | miandrivazo\n",
      "Processing Record 43 of Set 9 | zakamensk\n",
      "City not found. Skipping...\n",
      "Processing Record 44 of Set 9 | mangan\n",
      "Processing Record 45 of Set 9 | tambun\n",
      "Processing Record 46 of Set 9 | piacabucu\n",
      "City not found. Skipping...\n",
      "Processing Record 47 of Set 9 | san quintin\n",
      "Processing Record 48 of Set 9 | sonkovo\n",
      "Processing Record 49 of Set 9 | krasnoselkup\n",
      "Processing Record 50 of Set 9 | tromso\n",
      "Processing Record 0 of Set 10 | ishigaki\n",
      "Processing Record 1 of Set 10 | suruc\n",
      "Processing Record 2 of Set 10 | twin falls\n",
      "Processing Record 3 of Set 10 | kabala\n",
      "Processing Record 4 of Set 10 | mahon\n",
      "Processing Record 5 of Set 10 | trairi\n",
      "Processing Record 6 of Set 10 | waitati\n",
      "Processing Record 7 of Set 10 | mangrol\n",
      "Processing Record 8 of Set 10 | antalaha\n",
      "City not found. Skipping...\n",
      "Processing Record 9 of Set 10 | imbituba\n",
      "Processing Record 10 of Set 10 | dingle\n",
      "Processing Record 11 of Set 10 | vila\n",
      "Processing Record 12 of Set 10 | saint-pierre\n",
      "Processing Record 13 of Set 10 | pyrzyce\n",
      "City not found. Skipping...\n",
      "Processing Record 14 of Set 10 | broken hill\n",
      "Processing Record 15 of Set 10 | margate\n",
      "Processing Record 16 of Set 10 | ushumun\n",
      "Processing Record 17 of Set 10 | tokur\n",
      "Processing Record 18 of Set 10 | takaka\n",
      "Processing Record 19 of Set 10 | griffith\n",
      "Processing Record 20 of Set 10 | armidale\n",
      "Processing Record 21 of Set 10 | tilichiki\n",
      "Processing Record 22 of Set 10 | el tigre\n",
      "Processing Record 23 of Set 10 | havelock\n",
      "Processing Record 24 of Set 10 | jhanjharpur\n",
      "Processing Record 25 of Set 10 | nagaur\n",
      "Processing Record 26 of Set 10 | talas\n",
      "Processing Record 27 of Set 10 | carovigno\n",
      "Processing Record 28 of Set 10 | tagusao\n",
      "Processing Record 29 of Set 10 | mackay\n",
      "Processing Record 30 of Set 10 | nkhata bay\n",
      "Processing Record 31 of Set 10 | san nicolas\n",
      "Processing Record 32 of Set 10 | teya\n",
      "Processing Record 33 of Set 10 | dargaville\n",
      "Processing Record 34 of Set 10 | mitsamiouli\n",
      "Processing Record 35 of Set 10 | sao filipe\n",
      "Processing Record 36 of Set 10 | gafanha da encarnacao\n",
      "Processing Record 37 of Set 10 | mankapur\n",
      "Processing Record 38 of Set 10 | necochea\n",
      "Processing Record 39 of Set 10 | peniche\n",
      "City not found. Skipping...\n",
      "Processing Record 40 of Set 10 | ust-maya\n",
      "Processing Record 41 of Set 10 | severomuysk\n",
      "Processing Record 42 of Set 10 | tual\n",
      "Processing Record 43 of Set 10 | lishu\n",
      "Processing Record 44 of Set 10 | machali\n",
      "Processing Record 45 of Set 10 | egvekinot\n",
      "Processing Record 46 of Set 10 | camopi\n",
      "Processing Record 47 of Set 10 | korem\n",
      "Processing Record 48 of Set 10 | eyl\n",
      "Processing Record 49 of Set 10 | zyryanka\n",
      "Processing Record 50 of Set 10 | kaitangata\n",
      "Processing Record 0 of Set 11 | bobcaygeon\n",
      "Processing Record 1 of Set 11 | narasannapeta\n",
      "Processing Record 2 of Set 11 | mirabad\n",
      "Processing Record 3 of Set 11 | huarmey\n",
      "Processing Record 4 of Set 11 | puerto el triunfo\n",
      "Processing Record 5 of Set 11 | praia\n",
      "Processing Record 6 of Set 11 | khovu-aksy\n",
      "Processing Record 7 of Set 11 | wanaka\n",
      "Processing Record 8 of Set 11 | delray beach\n",
      "Processing Record 9 of Set 11 | ankazobe\n",
      "Processing Record 10 of Set 11 | atambua\n",
      "Processing Record 11 of Set 11 | libenge\n",
      "Processing Record 12 of Set 11 | rawson\n",
      "Processing Record 13 of Set 11 | sohagpur\n",
      "Processing Record 14 of Set 11 | roma\n",
      "City not found. Skipping...\n",
      "Processing Record 15 of Set 11 | hobyo\n",
      "Processing Record 16 of Set 11 | lavrentiya\n",
      "Processing Record 17 of Set 11 | agadez\n",
      "Processing Record 18 of Set 11 | guerrero negro\n",
      "Processing Record 19 of Set 11 | konstantinovka\n",
      "Processing Record 20 of Set 11 | nerchinskiy zavod\n",
      "Processing Record 21 of Set 11 | sturgis\n",
      "Processing Record 22 of Set 11 | kashi\n",
      "Processing Record 23 of Set 11 | klyuchi\n",
      "Processing Record 24 of Set 11 | ventersburg\n",
      "Processing Record 25 of Set 11 | bellavista\n",
      "Processing Record 26 of Set 11 | vilhena\n",
      "Processing Record 27 of Set 11 | mercaderes\n",
      "Processing Record 28 of Set 11 | dinguiraye\n",
      "Processing Record 29 of Set 11 | monoharpur\n",
      "Processing Record 30 of Set 11 | port hawkesbury\n",
      "Processing Record 31 of Set 11 | ambon\n",
      "Processing Record 32 of Set 11 | gravdal\n",
      "Processing Record 33 of Set 11 | new ross\n",
      "Processing Record 34 of Set 11 | pascagoula\n",
      "City not found. Skipping...\n",
      "Processing Record 35 of Set 11 | ola\n",
      "Processing Record 36 of Set 11 | tres arroyos\n",
      "Processing Record 37 of Set 11 | mildura\n",
      "Processing Record 38 of Set 11 | thaba nchu\n",
      "Processing Record 39 of Set 11 | santa maria del oro\n",
      "Processing Record 40 of Set 11 | balkanabat\n",
      "Processing Record 41 of Set 11 | christchurch\n",
      "Processing Record 42 of Set 11 | chincha alta\n",
      "Processing Record 43 of Set 11 | akyab\n",
      "City not found. Skipping...\n",
      "Processing Record 44 of Set 11 | vilyuysk\n",
      "Processing Record 45 of Set 11 | belle fourche\n",
      "Processing Record 46 of Set 11 | baruun-urt\n",
      "Processing Record 47 of Set 11 | tessalit\n",
      "Processing Record 48 of Set 11 | souillac\n",
      "Processing Record 49 of Set 11 | whitehorse\n",
      "Processing Record 50 of Set 11 | shirokiy\n"
     ]
    },
    {
     "name": "stdout",
     "output_type": "stream",
     "text": [
      "Processing Record 0 of Set 12 | fredericton\n",
      "Processing Record 1 of Set 12 | belaya gora\n",
      "Processing Record 2 of Set 12 | dryden\n",
      "City not found. Skipping...\n",
      "Processing Record 3 of Set 12 | saint-leu\n",
      "Processing Record 4 of Set 12 | praia da vitoria\n",
      "Processing Record 5 of Set 12 | hervey bay\n",
      "Processing Record 6 of Set 12 | los llanos de aridane\n",
      "Processing Record 7 of Set 12 | shache\n",
      "Processing Record 8 of Set 12 | inuvik\n",
      "Processing Record 9 of Set 12 | sinnamary\n",
      "Processing Record 10 of Set 12 | raisen\n",
      "City not found. Skipping...\n",
      "Processing Record 11 of Set 12 | redmond\n",
      "-----------------------------\n",
      "Data Retrieval Complete\n",
      "-----------------------------\n"
     ]
    }
   ],
   "source": [
    "# Get weather data\n",
    "print(\"Beginning Data Retrival\")\n",
    "print(\"-----------------------------\")\n",
    "set_count = 1\n",
    "record_count = 1\n",
    "weather_data = {\"City\":[],\"Lat\":[],\"Lng\":[],\"Max Temp\":[],\"Humidity\":[],\"Cloudiness\":[],\"Wind Speed\": [],\"Country\":[],\"Date\":[]}\n",
    "for city in cities:\n",
    "    weather_response = requests.get(base_url + city)\n",
    "    weather_response_json = weather_response.json()\n",
    "    \n",
    "    if weather_response.status_code == 200:\n",
    "        weather_data[\"City\"].append(city)\n",
    "        weather_data[\"Lat\"].append(weather_response_json['coord']['lat'])\n",
    "        weather_data[\"Lng\"].append(weather_response_json['coord']['lon'])\n",
    "        weather_data[\"Max Temp\"].append(weather_response_json['main']['temp_max'])\n",
    "        weather_data[\"Humidity\"].append(weather_response_json['main']['humidity'])\n",
    "        weather_data[\"Cloudiness\"].append(weather_response_json['clouds']['all'])\n",
    "        weather_data[\"Wind Speed\"].append(weather_response_json['wind']['speed'])\n",
    "        weather_data[\"Country\"].append(weather_response_json['sys']['country'])\n",
    "        weather_data[\"Date\"].append(weather_response_json['dt'])\n",
    "        if record_count <= 50:\n",
    "            print(f\"Processing Record {record_count} of Set {set_count} | {city}\")\n",
    "            record_count += 1 \n",
    "        else:\n",
    "            record_count = 0\n",
    "            set_count += 1\n",
    "            print(f\"Processing Record {record_count} of Set {set_count} | {city}\")\n",
    "            record_count += 1\n",
    "    else:\n",
    "        print(\"City not found. Skipping...\")\n",
    "print(\"-----------------------------\")\n",
    "print(\"Data Retrieval Complete\")\n",
    "print(\"-----------------------------\")"
   ]
  },
  {
   "cell_type": "markdown",
   "metadata": {},
   "source": [
    "### Convert Raw Data to DataFrame\n",
    "* Export the city data into a .csv.\n",
    "* Display the DataFrame"
   ]
  },
  {
   "cell_type": "code",
   "execution_count": 34,
   "metadata": {
    "scrolled": false
   },
   "outputs": [
    {
     "data": {
      "text/html": [
       "<div>\n",
       "<style scoped>\n",
       "    .dataframe tbody tr th:only-of-type {\n",
       "        vertical-align: middle;\n",
       "    }\n",
       "\n",
       "    .dataframe tbody tr th {\n",
       "        vertical-align: top;\n",
       "    }\n",
       "\n",
       "    .dataframe thead th {\n",
       "        text-align: right;\n",
       "    }\n",
       "</style>\n",
       "<table border=\"1\" class=\"dataframe\">\n",
       "  <thead>\n",
       "    <tr style=\"text-align: right;\">\n",
       "      <th></th>\n",
       "      <th>City</th>\n",
       "      <th>Lat</th>\n",
       "      <th>Lng</th>\n",
       "      <th>Max Temp</th>\n",
       "      <th>Humidity</th>\n",
       "      <th>Cloudiness</th>\n",
       "      <th>Wind Speed</th>\n",
       "      <th>Country</th>\n",
       "      <th>Date</th>\n",
       "    </tr>\n",
       "  </thead>\n",
       "  <tbody>\n",
       "    <tr>\n",
       "      <th>0</th>\n",
       "      <td>cam ranh</td>\n",
       "      <td>11.92</td>\n",
       "      <td>109.16</td>\n",
       "      <td>91.4</td>\n",
       "      <td>66</td>\n",
       "      <td>20</td>\n",
       "      <td>4.70</td>\n",
       "      <td>VN</td>\n",
       "      <td>1592531734</td>\n",
       "    </tr>\n",
       "    <tr>\n",
       "      <th>1</th>\n",
       "      <td>norman wells</td>\n",
       "      <td>65.28</td>\n",
       "      <td>-126.83</td>\n",
       "      <td>77.0</td>\n",
       "      <td>38</td>\n",
       "      <td>75</td>\n",
       "      <td>4.70</td>\n",
       "      <td>CA</td>\n",
       "      <td>1592531628</td>\n",
       "    </tr>\n",
       "    <tr>\n",
       "      <th>2</th>\n",
       "      <td>vaini</td>\n",
       "      <td>-21.20</td>\n",
       "      <td>-175.20</td>\n",
       "      <td>73.4</td>\n",
       "      <td>88</td>\n",
       "      <td>90</td>\n",
       "      <td>13.87</td>\n",
       "      <td>TO</td>\n",
       "      <td>1592531735</td>\n",
       "    </tr>\n",
       "    <tr>\n",
       "      <th>3</th>\n",
       "      <td>upernavik</td>\n",
       "      <td>72.79</td>\n",
       "      <td>-56.15</td>\n",
       "      <td>35.4</td>\n",
       "      <td>85</td>\n",
       "      <td>0</td>\n",
       "      <td>10.58</td>\n",
       "      <td>GL</td>\n",
       "      <td>1592531735</td>\n",
       "    </tr>\n",
       "    <tr>\n",
       "      <th>4</th>\n",
       "      <td>busselton</td>\n",
       "      <td>-33.65</td>\n",
       "      <td>115.33</td>\n",
       "      <td>55.0</td>\n",
       "      <td>90</td>\n",
       "      <td>80</td>\n",
       "      <td>5.12</td>\n",
       "      <td>AU</td>\n",
       "      <td>1592531735</td>\n",
       "    </tr>\n",
       "  </tbody>\n",
       "</table>\n",
       "</div>"
      ],
      "text/plain": [
       "           City    Lat     Lng  Max Temp  Humidity  Cloudiness  Wind Speed  \\\n",
       "0      cam ranh  11.92  109.16      91.4        66          20        4.70   \n",
       "1  norman wells  65.28 -126.83      77.0        38          75        4.70   \n",
       "2         vaini -21.20 -175.20      73.4        88          90       13.87   \n",
       "3     upernavik  72.79  -56.15      35.4        85           0       10.58   \n",
       "4     busselton -33.65  115.33      55.0        90          80        5.12   \n",
       "\n",
       "  Country        Date  \n",
       "0      VN  1592531734  \n",
       "1      CA  1592531628  \n",
       "2      TO  1592531735  \n",
       "3      GL  1592531735  \n",
       "4      AU  1592531735  "
      ]
     },
     "execution_count": 34,
     "metadata": {},
     "output_type": "execute_result"
    }
   ],
   "source": [
    "weather_df = pd.DataFrame(weather_data)\n",
    "weather_df.head()"
   ]
  },
  {
   "cell_type": "code",
   "execution_count": 35,
   "metadata": {
    "scrolled": true
   },
   "outputs": [
    {
     "data": {
      "text/plain": [
       "City          572\n",
       "Lat           572\n",
       "Lng           572\n",
       "Max Temp      572\n",
       "Humidity      572\n",
       "Cloudiness    572\n",
       "Wind Speed    572\n",
       "Country       572\n",
       "Date          572\n",
       "dtype: int64"
      ]
     },
     "execution_count": 35,
     "metadata": {},
     "output_type": "execute_result"
    }
   ],
   "source": [
    "weather_df.count()"
   ]
  },
  {
   "cell_type": "code",
   "execution_count": 36,
   "metadata": {},
   "outputs": [],
   "source": [
    "# Export data to csv\n",
    "weather_df.to_csv('weather_data.csv', index=False)"
   ]
  },
  {
   "cell_type": "markdown",
   "metadata": {},
   "source": [
    "## Inspect the data and remove the cities where the humidity > 100%.\n",
    "----\n",
    "Skip this step if there are no cities that have humidity > 100%. "
   ]
  },
  {
   "cell_type": "code",
   "execution_count": 37,
   "metadata": {
    "scrolled": true
   },
   "outputs": [
    {
     "data": {
      "text/html": [
       "<div>\n",
       "<style scoped>\n",
       "    .dataframe tbody tr th:only-of-type {\n",
       "        vertical-align: middle;\n",
       "    }\n",
       "\n",
       "    .dataframe tbody tr th {\n",
       "        vertical-align: top;\n",
       "    }\n",
       "\n",
       "    .dataframe thead th {\n",
       "        text-align: right;\n",
       "    }\n",
       "</style>\n",
       "<table border=\"1\" class=\"dataframe\">\n",
       "  <thead>\n",
       "    <tr style=\"text-align: right;\">\n",
       "      <th></th>\n",
       "      <th>Lat</th>\n",
       "      <th>Lng</th>\n",
       "      <th>Max Temp</th>\n",
       "      <th>Humidity</th>\n",
       "      <th>Cloudiness</th>\n",
       "      <th>Wind Speed</th>\n",
       "      <th>Date</th>\n",
       "    </tr>\n",
       "  </thead>\n",
       "  <tbody>\n",
       "    <tr>\n",
       "      <th>count</th>\n",
       "      <td>572.000000</td>\n",
       "      <td>572.000000</td>\n",
       "      <td>572.000000</td>\n",
       "      <td>572.000000</td>\n",
       "      <td>572.000000</td>\n",
       "      <td>572.000000</td>\n",
       "      <td>5.720000e+02</td>\n",
       "    </tr>\n",
       "    <tr>\n",
       "      <th>mean</th>\n",
       "      <td>20.615734</td>\n",
       "      <td>18.239510</td>\n",
       "      <td>68.199423</td>\n",
       "      <td>69.828671</td>\n",
       "      <td>46.477273</td>\n",
       "      <td>8.218147</td>\n",
       "      <td>1.592532e+09</td>\n",
       "    </tr>\n",
       "    <tr>\n",
       "      <th>std</th>\n",
       "      <td>33.377280</td>\n",
       "      <td>90.378367</td>\n",
       "      <td>13.852364</td>\n",
       "      <td>20.734043</td>\n",
       "      <td>39.776889</td>\n",
       "      <td>5.706642</td>\n",
       "      <td>1.341372e+02</td>\n",
       "    </tr>\n",
       "    <tr>\n",
       "      <th>min</th>\n",
       "      <td>-54.800000</td>\n",
       "      <td>-179.170000</td>\n",
       "      <td>28.400000</td>\n",
       "      <td>5.000000</td>\n",
       "      <td>0.000000</td>\n",
       "      <td>0.130000</td>\n",
       "      <td>1.592531e+09</td>\n",
       "    </tr>\n",
       "    <tr>\n",
       "      <th>25%</th>\n",
       "      <td>-6.220000</td>\n",
       "      <td>-61.395000</td>\n",
       "      <td>58.607500</td>\n",
       "      <td>59.000000</td>\n",
       "      <td>1.000000</td>\n",
       "      <td>4.135000</td>\n",
       "      <td>1.592532e+09</td>\n",
       "    </tr>\n",
       "    <tr>\n",
       "      <th>50%</th>\n",
       "      <td>25.405000</td>\n",
       "      <td>24.960000</td>\n",
       "      <td>69.800000</td>\n",
       "      <td>74.000000</td>\n",
       "      <td>40.000000</td>\n",
       "      <td>6.930000</td>\n",
       "      <td>1.592532e+09</td>\n",
       "    </tr>\n",
       "    <tr>\n",
       "      <th>75%</th>\n",
       "      <td>49.762500</td>\n",
       "      <td>95.945000</td>\n",
       "      <td>78.842500</td>\n",
       "      <td>86.000000</td>\n",
       "      <td>90.000000</td>\n",
       "      <td>11.367500</td>\n",
       "      <td>1.592532e+09</td>\n",
       "    </tr>\n",
       "    <tr>\n",
       "      <th>max</th>\n",
       "      <td>78.220000</td>\n",
       "      <td>179.320000</td>\n",
       "      <td>97.900000</td>\n",
       "      <td>100.000000</td>\n",
       "      <td>100.000000</td>\n",
       "      <td>40.260000</td>\n",
       "      <td>1.592532e+09</td>\n",
       "    </tr>\n",
       "  </tbody>\n",
       "</table>\n",
       "</div>"
      ],
      "text/plain": [
       "              Lat         Lng    Max Temp    Humidity  Cloudiness  Wind Speed  \\\n",
       "count  572.000000  572.000000  572.000000  572.000000  572.000000  572.000000   \n",
       "mean    20.615734   18.239510   68.199423   69.828671   46.477273    8.218147   \n",
       "std     33.377280   90.378367   13.852364   20.734043   39.776889    5.706642   \n",
       "min    -54.800000 -179.170000   28.400000    5.000000    0.000000    0.130000   \n",
       "25%     -6.220000  -61.395000   58.607500   59.000000    1.000000    4.135000   \n",
       "50%     25.405000   24.960000   69.800000   74.000000   40.000000    6.930000   \n",
       "75%     49.762500   95.945000   78.842500   86.000000   90.000000   11.367500   \n",
       "max     78.220000  179.320000   97.900000  100.000000  100.000000   40.260000   \n",
       "\n",
       "               Date  \n",
       "count  5.720000e+02  \n",
       "mean   1.592532e+09  \n",
       "std    1.341372e+02  \n",
       "min    1.592531e+09  \n",
       "25%    1.592532e+09  \n",
       "50%    1.592532e+09  \n",
       "75%    1.592532e+09  \n",
       "max    1.592532e+09  "
      ]
     },
     "execution_count": 37,
     "metadata": {},
     "output_type": "execute_result"
    }
   ],
   "source": [
    "weather_df.describe()"
   ]
  },
  {
   "cell_type": "code",
   "execution_count": 38,
   "metadata": {},
   "outputs": [],
   "source": [
    "#  No Cities with Humidity >100%\n"
   ]
  },
  {
   "cell_type": "markdown",
   "metadata": {},
   "source": [
    "## Plotting the Data\n",
    "* Use proper labeling of the plots using plot titles (including date of analysis) and axes labels.\n",
    "* Save the plotted figures as .pngs."
   ]
  },
  {
   "cell_type": "markdown",
   "metadata": {},
   "source": [
    "## Latitude vs. Temperature Plot"
   ]
  },
  {
   "cell_type": "code",
   "execution_count": 39,
   "metadata": {},
   "outputs": [
    {
     "data": {
      "image/png": "[encoded data removed]",
      "text/plain": [
       "<Figure size 432x288 with 1 Axes>"
      ]
     },
     "metadata": {
      "needs_background": "light"
     },
     "output_type": "display_data"
    }
   ],
   "source": [
    "# Scatter plot\n",
    "plt.scatter(weather_df[\"Lat\"],weather_df[\"Max Temp\"], edgecolor=\"black\")\n",
    "\n",
    "# Labels\n",
    "plt.title(\"City Latitude vs. Max Temperature (06/18/20)\")\n",
    "plt.xlabel(\"Latitude\")\n",
    "plt.ylabel(\"Max Temperature (F)\")\n",
    "plt.grid(True)\n",
    "\n",
    "# Save as PNG and Show\n",
    "plt.savefig(\"LatVTemp.png\")\n",
    "plt.show()"
   ]
  },
  {
   "cell_type": "markdown",
   "metadata": {},
   "source": [
    "## Latitude vs. Humidity Plot"
   ]
  },
  {
   "cell_type": "code",
   "execution_count": 17,
   "metadata": {},
   "outputs": [
    {
     "data": {
      "image/png": "[encoded data removed]",
      "text/plain": [
       "<Figure size 432x288 with 1 Axes>"
      ]
     },
     "metadata": {
      "needs_background": "light"
     },
     "output_type": "display_data"
    }
   ],
   "source": [
    "# Scatter plot\n",
    "plt.scatter(weather_df[\"Lat\"],weather_df[\"Humidity\"], edgecolor=\"black\")\n",
    "\n",
    "# Labels\n",
    "plt.title(\"City Latitude vs. Humidity (06/18/20)\")\n",
    "plt.xlabel(\"Latitude\")\n",
    "plt.ylabel(\"Humidity (%)\")\n",
    "plt.grid(True)\n",
    "\n",
    "# Save as PNG and Show\n",
    "plt.savefig(\"LatVHumidity.png\")\n",
    "plt.show()"
   ]
  },
  {
   "cell_type": "markdown",
   "metadata": {},
   "source": [
    "## Latitude vs. Cloudiness Plot"
   ]
  },
  {
   "cell_type": "code",
   "execution_count": 18,
   "metadata": {},
   "outputs": [
    {
     "data": {
      "image/png": "[encoded data removed]",
      "text/plain": [
       "<Figure size 432x288 with 1 Axes>"
      ]
     },
     "metadata": {
      "needs_background": "light"
     },
     "output_type": "display_data"
    }
   ],
   "source": [
    "# Scatter plot\n",
    "plt.scatter(weather_df[\"Lat\"],weather_df[\"Cloudiness\"], edgecolor=\"black\")\n",
    "\n",
    "# Labels\n",
    "plt.title(\"City Latitude vs. Cloudiness (06/18/20)\")\n",
    "plt.xlabel(\"Latitude\")\n",
    "plt.ylabel(\"Cloudiness (%)\")\n",
    "plt.grid(True)\n",
    "\n",
    "# Save as PNG and Show\n",
    "plt.savefig(\"LatVCloud.png\")\n",
    "plt.show()"
   ]
  },
  {
   "cell_type": "markdown",
   "metadata": {},
   "source": [
    "## Latitude vs. Wind Speed Plot"
   ]
  },
  {
   "cell_type": "code",
   "execution_count": 19,
   "metadata": {},
   "outputs": [
    {
     "data": {
      "image/png": "[encoded data removed]",
      "text/plain": [
       "<Figure size 432x288 with 1 Axes>"
      ]
     },
     "metadata": {
      "needs_background": "light"
     },
     "output_type": "display_data"
    }
   ],
   "source": [
    "# Scatter plot\n",
    "plt.scatter(weather_df[\"Lat\"],weather_df[\"Wind Speed\"], edgecolor=\"black\")\n",
    "\n",
    "# Labels\n",
    "plt.title(\"City Latitude vs. Wind Speed (08/22/18)\")\n",
    "plt.xlabel(\"Latitude\")\n",
    "plt.ylabel(\"Wind Speed (mph)\")\n",
    "plt.grid(True)\n",
    "\n",
    "# Save as PNG and Show\n",
    "plt.savefig(\"LatVWindSpeed.png\")\n",
    "plt.show()"
   ]
  },
  {
   "cell_type": "markdown",
   "metadata": {},
   "source": [
    "## Linear Regression"
   ]
  },
  {
   "cell_type": "code",
   "execution_count": 20,
   "metadata": {},
   "outputs": [],
   "source": [
    "# OPTIONAL: Create a function to create Linear Regression plots"
   ]
  },
  {
   "cell_type": "code",
   "execution_count": 21,
   "metadata": {},
   "outputs": [],
   "source": [
    "# Create Northern and Southern Hemisphere DataFrames\n",
    "n_hemisphere = weather_df.loc[weather_df[\"Lat\"] >= 0]\n",
    "s_hemisphere = weather_df.loc[weather_df[\"Lat\"] < 0]"
   ]
  },
  {
   "cell_type": "code",
   "execution_count": 22,
   "metadata": {
    "scrolled": true
   },
   "outputs": [
    {
     "data": {
      "text/html": [
       "<div>\n",
       "<style scoped>\n",
       "    .dataframe tbody tr th:only-of-type {\n",
       "        vertical-align: middle;\n",
       "    }\n",
       "\n",
       "    .dataframe tbody tr th {\n",
       "        vertical-align: top;\n",
       "    }\n",
       "\n",
       "    .dataframe thead th {\n",
       "        text-align: right;\n",
       "    }\n",
       "</style>\n",
       "<table border=\"1\" class=\"dataframe\">\n",
       "  <thead>\n",
       "    <tr style=\"text-align: right;\">\n",
       "      <th></th>\n",
       "      <th>City</th>\n",
       "      <th>Lat</th>\n",
       "      <th>Lng</th>\n",
       "      <th>Max Temp</th>\n",
       "      <th>Humidity</th>\n",
       "      <th>Cloudiness</th>\n",
       "      <th>Wind Speed</th>\n",
       "      <th>Country</th>\n",
       "      <th>Date</th>\n",
       "    </tr>\n",
       "  </thead>\n",
       "  <tbody>\n",
       "    <tr>\n",
       "      <th>0</th>\n",
       "      <td>cam ranh</td>\n",
       "      <td>11.92</td>\n",
       "      <td>109.16</td>\n",
       "      <td>91.40</td>\n",
       "      <td>66</td>\n",
       "      <td>20</td>\n",
       "      <td>4.70</td>\n",
       "      <td>VN</td>\n",
       "      <td>1592531734</td>\n",
       "    </tr>\n",
       "    <tr>\n",
       "      <th>1</th>\n",
       "      <td>norman wells</td>\n",
       "      <td>65.28</td>\n",
       "      <td>-126.83</td>\n",
       "      <td>77.00</td>\n",
       "      <td>38</td>\n",
       "      <td>75</td>\n",
       "      <td>4.70</td>\n",
       "      <td>CA</td>\n",
       "      <td>1592531628</td>\n",
       "    </tr>\n",
       "    <tr>\n",
       "      <th>3</th>\n",
       "      <td>upernavik</td>\n",
       "      <td>72.79</td>\n",
       "      <td>-56.15</td>\n",
       "      <td>35.40</td>\n",
       "      <td>85</td>\n",
       "      <td>0</td>\n",
       "      <td>10.58</td>\n",
       "      <td>GL</td>\n",
       "      <td>1592531735</td>\n",
       "    </tr>\n",
       "    <tr>\n",
       "      <th>5</th>\n",
       "      <td>ghosi</td>\n",
       "      <td>26.11</td>\n",
       "      <td>83.54</td>\n",
       "      <td>81.52</td>\n",
       "      <td>82</td>\n",
       "      <td>100</td>\n",
       "      <td>3.78</td>\n",
       "      <td>IN</td>\n",
       "      <td>1592531735</td>\n",
       "    </tr>\n",
       "    <tr>\n",
       "      <th>7</th>\n",
       "      <td>pevek</td>\n",
       "      <td>69.70</td>\n",
       "      <td>170.31</td>\n",
       "      <td>42.40</td>\n",
       "      <td>65</td>\n",
       "      <td>0</td>\n",
       "      <td>9.24</td>\n",
       "      <td>RU</td>\n",
       "      <td>1592531629</td>\n",
       "    </tr>\n",
       "  </tbody>\n",
       "</table>\n",
       "</div>"
      ],
      "text/plain": [
       "           City    Lat     Lng  Max Temp  Humidity  Cloudiness  Wind Speed  \\\n",
       "0      cam ranh  11.92  109.16     91.40        66          20        4.70   \n",
       "1  norman wells  65.28 -126.83     77.00        38          75        4.70   \n",
       "3     upernavik  72.79  -56.15     35.40        85           0       10.58   \n",
       "5         ghosi  26.11   83.54     81.52        82         100        3.78   \n",
       "7         pevek  69.70  170.31     42.40        65           0        9.24   \n",
       "\n",
       "  Country        Date  \n",
       "0      VN  1592531734  \n",
       "1      CA  1592531628  \n",
       "3      GL  1592531735  \n",
       "5      IN  1592531735  \n",
       "7      RU  1592531629  "
      ]
     },
     "execution_count": 22,
     "metadata": {},
     "output_type": "execute_result"
    }
   ],
   "source": [
    "n_hemisphere.head()"
   ]
  },
  {
   "cell_type": "code",
   "execution_count": 23,
   "metadata": {},
   "outputs": [
    {
     "data": {
      "text/html": [
       "<div>\n",
       "<style scoped>\n",
       "    .dataframe tbody tr th:only-of-type {\n",
       "        vertical-align: middle;\n",
       "    }\n",
       "\n",
       "    .dataframe tbody tr th {\n",
       "        vertical-align: top;\n",
       "    }\n",
       "\n",
       "    .dataframe thead th {\n",
       "        text-align: right;\n",
       "    }\n",
       "</style>\n",
       "<table border=\"1\" class=\"dataframe\">\n",
       "  <thead>\n",
       "    <tr style=\"text-align: right;\">\n",
       "      <th></th>\n",
       "      <th>Lat</th>\n",
       "      <th>Lng</th>\n",
       "      <th>Max Temp</th>\n",
       "      <th>Humidity</th>\n",
       "      <th>Cloudiness</th>\n",
       "      <th>Wind Speed</th>\n",
       "      <th>Date</th>\n",
       "    </tr>\n",
       "  </thead>\n",
       "  <tbody>\n",
       "    <tr>\n",
       "      <th>count</th>\n",
       "      <td>397.000000</td>\n",
       "      <td>397.000000</td>\n",
       "      <td>397.000000</td>\n",
       "      <td>397.000000</td>\n",
       "      <td>397.000000</td>\n",
       "      <td>397.000000</td>\n",
       "      <td>3.970000e+02</td>\n",
       "    </tr>\n",
       "    <tr>\n",
       "      <th>mean</th>\n",
       "      <td>39.074458</td>\n",
       "      <td>11.544458</td>\n",
       "      <td>69.313098</td>\n",
       "      <td>68.304786</td>\n",
       "      <td>47.954660</td>\n",
       "      <td>8.188287</td>\n",
       "      <td>1.592532e+09</td>\n",
       "    </tr>\n",
       "    <tr>\n",
       "      <th>std</th>\n",
       "      <td>20.019879</td>\n",
       "      <td>88.012291</td>\n",
       "      <td>14.191302</td>\n",
       "      <td>22.684826</td>\n",
       "      <td>40.169627</td>\n",
       "      <td>5.707786</td>\n",
       "      <td>1.287774e+02</td>\n",
       "    </tr>\n",
       "    <tr>\n",
       "      <th>min</th>\n",
       "      <td>0.540000</td>\n",
       "      <td>-179.170000</td>\n",
       "      <td>30.250000</td>\n",
       "      <td>5.000000</td>\n",
       "      <td>0.000000</td>\n",
       "      <td>0.130000</td>\n",
       "      <td>1.592531e+09</td>\n",
       "    </tr>\n",
       "    <tr>\n",
       "      <th>25%</th>\n",
       "      <td>22.290000</td>\n",
       "      <td>-70.100000</td>\n",
       "      <td>60.030000</td>\n",
       "      <td>54.000000</td>\n",
       "      <td>1.000000</td>\n",
       "      <td>4.180000</td>\n",
       "      <td>1.592532e+09</td>\n",
       "    </tr>\n",
       "    <tr>\n",
       "      <th>50%</th>\n",
       "      <td>40.710000</td>\n",
       "      <td>20.170000</td>\n",
       "      <td>71.260000</td>\n",
       "      <td>74.000000</td>\n",
       "      <td>40.000000</td>\n",
       "      <td>6.930000</td>\n",
       "      <td>1.592532e+09</td>\n",
       "    </tr>\n",
       "    <tr>\n",
       "      <th>75%</th>\n",
       "      <td>55.740000</td>\n",
       "      <td>82.470000</td>\n",
       "      <td>80.600000</td>\n",
       "      <td>87.000000</td>\n",
       "      <td>90.000000</td>\n",
       "      <td>10.920000</td>\n",
       "      <td>1.592532e+09</td>\n",
       "    </tr>\n",
       "    <tr>\n",
       "      <th>max</th>\n",
       "      <td>78.220000</td>\n",
       "      <td>179.320000</td>\n",
       "      <td>97.900000</td>\n",
       "      <td>100.000000</td>\n",
       "      <td>100.000000</td>\n",
       "      <td>40.260000</td>\n",
       "      <td>1.592532e+09</td>\n",
       "    </tr>\n",
       "  </tbody>\n",
       "</table>\n",
       "</div>"
      ],
      "text/plain": [
       "              Lat         Lng    Max Temp    Humidity  Cloudiness  Wind Speed  \\\n",
       "count  397.000000  397.000000  397.000000  397.000000  397.000000  397.000000   \n",
       "mean    39.074458   11.544458   69.313098   68.304786   47.954660    8.188287   \n",
       "std     20.019879   88.012291   14.191302   22.684826   40.169627    5.707786   \n",
       "min      0.540000 -179.170000   30.250000    5.000000    0.000000    0.130000   \n",
       "25%     22.290000  -70.100000   60.030000   54.000000    1.000000    4.180000   \n",
       "50%     40.710000   20.170000   71.260000   74.000000   40.000000    6.930000   \n",
       "75%     55.740000   82.470000   80.600000   87.000000   90.000000   10.920000   \n",
       "max     78.220000  179.320000   97.900000  100.000000  100.000000   40.260000   \n",
       "\n",
       "               Date  \n",
       "count  3.970000e+02  \n",
       "mean   1.592532e+09  \n",
       "std    1.287774e+02  \n",
       "min    1.592531e+09  \n",
       "25%    1.592532e+09  \n",
       "50%    1.592532e+09  \n",
       "75%    1.592532e+09  \n",
       "max    1.592532e+09  "
      ]
     },
     "execution_count": 23,
     "metadata": {},
     "output_type": "execute_result"
    }
   ],
   "source": [
    "n_hemisphere.describe()"
   ]
  },
  {
   "cell_type": "code",
   "execution_count": 24,
   "metadata": {
    "scrolled": false
   },
   "outputs": [
    {
     "data": {
      "text/html": [
       "<div>\n",
       "<style scoped>\n",
       "    .dataframe tbody tr th:only-of-type {\n",
       "        vertical-align: middle;\n",
       "    }\n",
       "\n",
       "    .dataframe tbody tr th {\n",
       "        vertical-align: top;\n",
       "    }\n",
       "\n",
       "    .dataframe thead th {\n",
       "        text-align: right;\n",
       "    }\n",
       "</style>\n",
       "<table border=\"1\" class=\"dataframe\">\n",
       "  <thead>\n",
       "    <tr style=\"text-align: right;\">\n",
       "      <th></th>\n",
       "      <th>City</th>\n",
       "      <th>Lat</th>\n",
       "      <th>Lng</th>\n",
       "      <th>Max Temp</th>\n",
       "      <th>Humidity</th>\n",
       "      <th>Cloudiness</th>\n",
       "      <th>Wind Speed</th>\n",
       "      <th>Country</th>\n",
       "      <th>Date</th>\n",
       "    </tr>\n",
       "  </thead>\n",
       "  <tbody>\n",
       "    <tr>\n",
       "      <th>2</th>\n",
       "      <td>vaini</td>\n",
       "      <td>-21.20</td>\n",
       "      <td>-175.20</td>\n",
       "      <td>73.40</td>\n",
       "      <td>88</td>\n",
       "      <td>90</td>\n",
       "      <td>13.87</td>\n",
       "      <td>TO</td>\n",
       "      <td>1592531735</td>\n",
       "    </tr>\n",
       "    <tr>\n",
       "      <th>4</th>\n",
       "      <td>busselton</td>\n",
       "      <td>-33.65</td>\n",
       "      <td>115.33</td>\n",
       "      <td>55.00</td>\n",
       "      <td>90</td>\n",
       "      <td>80</td>\n",
       "      <td>5.12</td>\n",
       "      <td>AU</td>\n",
       "      <td>1592531735</td>\n",
       "    </tr>\n",
       "    <tr>\n",
       "      <th>6</th>\n",
       "      <td>mataura</td>\n",
       "      <td>-46.19</td>\n",
       "      <td>168.86</td>\n",
       "      <td>46.62</td>\n",
       "      <td>68</td>\n",
       "      <td>0</td>\n",
       "      <td>5.28</td>\n",
       "      <td>NZ</td>\n",
       "      <td>1592531736</td>\n",
       "    </tr>\n",
       "    <tr>\n",
       "      <th>8</th>\n",
       "      <td>labuhan</td>\n",
       "      <td>-6.88</td>\n",
       "      <td>112.21</td>\n",
       "      <td>81.77</td>\n",
       "      <td>75</td>\n",
       "      <td>39</td>\n",
       "      <td>6.02</td>\n",
       "      <td>ID</td>\n",
       "      <td>1592531173</td>\n",
       "    </tr>\n",
       "    <tr>\n",
       "      <th>9</th>\n",
       "      <td>poum</td>\n",
       "      <td>-20.23</td>\n",
       "      <td>164.02</td>\n",
       "      <td>74.93</td>\n",
       "      <td>74</td>\n",
       "      <td>58</td>\n",
       "      <td>9.66</td>\n",
       "      <td>NC</td>\n",
       "      <td>1592530899</td>\n",
       "    </tr>\n",
       "  </tbody>\n",
       "</table>\n",
       "</div>"
      ],
      "text/plain": [
       "        City    Lat     Lng  Max Temp  Humidity  Cloudiness  Wind Speed  \\\n",
       "2      vaini -21.20 -175.20     73.40        88          90       13.87   \n",
       "4  busselton -33.65  115.33     55.00        90          80        5.12   \n",
       "6    mataura -46.19  168.86     46.62        68           0        5.28   \n",
       "8    labuhan  -6.88  112.21     81.77        75          39        6.02   \n",
       "9       poum -20.23  164.02     74.93        74          58        9.66   \n",
       "\n",
       "  Country        Date  \n",
       "2      TO  1592531735  \n",
       "4      AU  1592531735  \n",
       "6      NZ  1592531736  \n",
       "8      ID  1592531173  \n",
       "9      NC  1592530899  "
      ]
     },
     "execution_count": 24,
     "metadata": {},
     "output_type": "execute_result"
    }
   ],
   "source": [
    "s_hemisphere.head()"
   ]
  },
  {
   "cell_type": "code",
   "execution_count": 25,
   "metadata": {},
   "outputs": [
    {
     "data": {
      "text/html": [
       "<div>\n",
       "<style scoped>\n",
       "    .dataframe tbody tr th:only-of-type {\n",
       "        vertical-align: middle;\n",
       "    }\n",
       "\n",
       "    .dataframe tbody tr th {\n",
       "        vertical-align: top;\n",
       "    }\n",
       "\n",
       "    .dataframe thead th {\n",
       "        text-align: right;\n",
       "    }\n",
       "</style>\n",
       "<table border=\"1\" class=\"dataframe\">\n",
       "  <thead>\n",
       "    <tr style=\"text-align: right;\">\n",
       "      <th></th>\n",
       "      <th>Lat</th>\n",
       "      <th>Lng</th>\n",
       "      <th>Max Temp</th>\n",
       "      <th>Humidity</th>\n",
       "      <th>Cloudiness</th>\n",
       "      <th>Wind Speed</th>\n",
       "      <th>Date</th>\n",
       "    </tr>\n",
       "  </thead>\n",
       "  <tbody>\n",
       "    <tr>\n",
       "      <th>count</th>\n",
       "      <td>175.000000</td>\n",
       "      <td>175.000000</td>\n",
       "      <td>175.000000</td>\n",
       "      <td>175.000000</td>\n",
       "      <td>175.000000</td>\n",
       "      <td>175.000000</td>\n",
       "      <td>1.750000e+02</td>\n",
       "    </tr>\n",
       "    <tr>\n",
       "      <th>mean</th>\n",
       "      <td>-21.259200</td>\n",
       "      <td>33.427714</td>\n",
       "      <td>65.672971</td>\n",
       "      <td>73.285714</td>\n",
       "      <td>43.125714</td>\n",
       "      <td>8.285886</td>\n",
       "      <td>1.592532e+09</td>\n",
       "    </tr>\n",
       "    <tr>\n",
       "      <th>std</th>\n",
       "      <td>14.237619</td>\n",
       "      <td>94.029383</td>\n",
       "      <td>12.732209</td>\n",
       "      <td>14.909249</td>\n",
       "      <td>38.775750</td>\n",
       "      <td>5.719840</td>\n",
       "      <td>1.455976e+02</td>\n",
       "    </tr>\n",
       "    <tr>\n",
       "      <th>min</th>\n",
       "      <td>-54.800000</td>\n",
       "      <td>-175.200000</td>\n",
       "      <td>28.400000</td>\n",
       "      <td>29.000000</td>\n",
       "      <td>0.000000</td>\n",
       "      <td>0.670000</td>\n",
       "      <td>1.592531e+09</td>\n",
       "    </tr>\n",
       "    <tr>\n",
       "      <th>25%</th>\n",
       "      <td>-33.675000</td>\n",
       "      <td>-51.540000</td>\n",
       "      <td>55.600000</td>\n",
       "      <td>64.000000</td>\n",
       "      <td>0.500000</td>\n",
       "      <td>3.810000</td>\n",
       "      <td>1.592532e+09</td>\n",
       "    </tr>\n",
       "    <tr>\n",
       "      <th>50%</th>\n",
       "      <td>-20.520000</td>\n",
       "      <td>27.910000</td>\n",
       "      <td>68.000000</td>\n",
       "      <td>74.000000</td>\n",
       "      <td>39.000000</td>\n",
       "      <td>6.930000</td>\n",
       "      <td>1.592532e+09</td>\n",
       "    </tr>\n",
       "    <tr>\n",
       "      <th>75%</th>\n",
       "      <td>-8.045000</td>\n",
       "      <td>126.795000</td>\n",
       "      <td>74.965000</td>\n",
       "      <td>85.000000</td>\n",
       "      <td>78.500000</td>\n",
       "      <td>11.410000</td>\n",
       "      <td>1.592532e+09</td>\n",
       "    </tr>\n",
       "    <tr>\n",
       "      <th>max</th>\n",
       "      <td>-0.220000</td>\n",
       "      <td>175.520000</td>\n",
       "      <td>88.000000</td>\n",
       "      <td>100.000000</td>\n",
       "      <td>100.000000</td>\n",
       "      <td>24.000000</td>\n",
       "      <td>1.592532e+09</td>\n",
       "    </tr>\n",
       "  </tbody>\n",
       "</table>\n",
       "</div>"
      ],
      "text/plain": [
       "              Lat         Lng    Max Temp    Humidity  Cloudiness  Wind Speed  \\\n",
       "count  175.000000  175.000000  175.000000  175.000000  175.000000  175.000000   \n",
       "mean   -21.259200   33.427714   65.672971   73.285714   43.125714    8.285886   \n",
       "std     14.237619   94.029383   12.732209   14.909249   38.775750    5.719840   \n",
       "min    -54.800000 -175.200000   28.400000   29.000000    0.000000    0.670000   \n",
       "25%    -33.675000  -51.540000   55.600000   64.000000    0.500000    3.810000   \n",
       "50%    -20.520000   27.910000   68.000000   74.000000   39.000000    6.930000   \n",
       "75%     -8.045000  126.795000   74.965000   85.000000   78.500000   11.410000   \n",
       "max     -0.220000  175.520000   88.000000  100.000000  100.000000   24.000000   \n",
       "\n",
       "               Date  \n",
       "count  1.750000e+02  \n",
       "mean   1.592532e+09  \n",
       "std    1.455976e+02  \n",
       "min    1.592531e+09  \n",
       "25%    1.592532e+09  \n",
       "50%    1.592532e+09  \n",
       "75%    1.592532e+09  \n",
       "max    1.592532e+09  "
      ]
     },
     "execution_count": 25,
     "metadata": {},
     "output_type": "execute_result"
    }
   ],
   "source": [
    "s_hemisphere.describe()"
   ]
  },
  {
   "cell_type": "markdown",
   "metadata": {},
   "source": [
    "####  Northern Hemisphere - Max Temp vs. Latitude Linear Regression"
   ]
  },
  {
   "cell_type": "code",
   "execution_count": 40,
   "metadata": {
    "scrolled": true
   },
   "outputs": [
    {
     "name": "stdout",
     "output_type": "stream",
     "text": [
      "The r-squared is: -0.686210258038039\n"
     ]
    },
    {
     "data": {
      "image/png": "[encoded data removed]",
      "text/plain": [
       "<Figure size 432x288 with 1 Axes>"
      ]
     },
     "metadata": {
      "needs_background": "light"
     },
     "output_type": "display_data"
    }
   ],
   "source": [
    "# Calculate the correlation coefficient and linear regression model \n",
    "(slope, intercept,rvalue, pvalue, stderr) = linregress(n_hemisphere[\"Lat\"], n_hemisphere[\"Max Temp\"])\n",
    "regress_values = n_hemisphere[\"Lat\"] * slope + intercept\n",
    "\n",
    "# Scatter Plot\n",
    "x_axis = n_hemisphere[\"Lat\"]\n",
    "y_axis = n_hemisphere[\"Max Temp\"]\n",
    "plt.scatter(x_axis, y_axis, edgecolor=\"black\")\n",
    "\n",
    "# Regression Line\n",
    "plt.plot(n_hemisphere[\"Lat\"], regress_values, color='red')\n",
    "line_eq = f\"y = {round(slope, 2)}x + {round(intercept, 2)}\"\n",
    "r_value = f\"r = {round(rvalue,2)}\"\n",
    "plt.annotate(line_eq, (5,35), color='red', fontsize=10)\n",
    "plt.annotate(r_value, (5,32), color='red', fontsize=10)\n",
    "\n",
    "# Labels\n",
    "plt.title(\"Max Temp vs. Latitude (Northern Hemisphere)\")\n",
    "plt.xlabel(\"Latitude\")\n",
    "plt.ylabel(\"Max Temp (F)\")\n",
    "print(f\"The r-squared is: {rvalue}\")\n",
    "plt.savefig(\"TempVLat-NHemisphere.png\")\n",
    "plt.show()"
   ]
  },
  {
   "cell_type": "markdown",
   "metadata": {},
   "source": [
    "####  Southern Hemisphere - Max Temp vs. Latitude Linear Regression"
   ]
  },
  {
   "cell_type": "code",
   "execution_count": 41,
   "metadata": {},
   "outputs": [
    {
     "name": "stdout",
     "output_type": "stream",
     "text": [
      "The r-squared is: 0.799509869125586\n"
     ]
    },
    {
     "data": {
      "image/png": "[encoded data removed]",
      "text/plain": [
       "<Figure size 432x288 with 1 Axes>"
      ]
     },
     "metadata": {
      "needs_background": "light"
     },
     "output_type": "display_data"
    }
   ],
   "source": [
    "# Calculate the correlation coefficient and linear regression model \n",
    "(slope, intercept,rvalue, pvalue, stderr) = linregress(s_hemisphere[\"Lat\"], s_hemisphere[\"Max Temp\"])\n",
    "regress_values = s_hemisphere[\"Lat\"] * slope + intercept\n",
    "\n",
    "# Scatter Plot\n",
    "x_axis = s_hemisphere[\"Lat\"]\n",
    "y_axis = s_hemisphere[\"Max Temp\"]\n",
    "plt.scatter(x_axis, y_axis, edgecolor=\"black\")\n",
    "\n",
    "# Regression Line\n",
    "plt.plot(s_hemisphere[\"Lat\"], regress_values, color='red')\n",
    "line_eq = f\"y = {round(slope, 2)}x + {round(intercept, 2)}\"\n",
    "r_value = f\"r = {round(rvalue,2)}\"\n",
    "plt.annotate(line_eq, (-50,80), color='red', fontsize=10)\n",
    "plt.annotate(r_value, (-50,75), color='red', fontsize=10)\n",
    "\n",
    "# Labels\n",
    "plt.title(\"Max Temp vs. Latitude (Southern Hemisphere)\")\n",
    "plt.xlabel(\"Latitude\")\n",
    "plt.ylabel(\"Max Temp (F)\")\n",
    "print(f\"The r-squared is: {rvalue}\")\n",
    "plt.savefig(\"TempVLat-SHemisphere.png\")\n",
    "plt.show()"
   ]
  },
  {
   "cell_type": "markdown",
   "metadata": {},
   "source": [
    "####  Northern Hemisphere - Humidity (%) vs. Latitude Linear Regression"
   ]
  },
  {
   "cell_type": "code",
   "execution_count": 28,
   "metadata": {},
   "outputs": [
    {
     "name": "stdout",
     "output_type": "stream",
     "text": [
      "The r-squared is: -0.08703486756193805\n"
     ]
    },
    {
     "data": {
      "image/png": "[encoded data removed]",
      "text/plain": [
       "<Figure size 432x288 with 1 Axes>"
      ]
     },
     "metadata": {
      "needs_background": "light"
     },
     "output_type": "display_data"
    }
   ],
   "source": [
    "# Calculate the correlation coefficient and linear regression model \n",
    "(slope, intercept,rvalue, pvalue, stderr) = linregress(n_hemisphere[\"Lat\"], n_hemisphere[\"Humidity\"])\n",
    "regress_values = n_hemisphere[\"Lat\"] * slope + intercept\n",
    "\n",
    "# Scatter Plot\n",
    "x_axis = n_hemisphere[\"Lat\"]\n",
    "y_axis = n_hemisphere[\"Humidity\"]\n",
    "plt.scatter(x_axis, y_axis, edgecolor=\"black\")\n",
    "\n",
    "# Regression Line\n",
    "plt.plot(n_hemisphere[\"Lat\"], regress_values, color='red')\n",
    "line_eq = f\"y = {round(slope, 2)}x + {round(intercept, 2)}\"\n",
    "r_value = f\"r = {round(rvalue,2)}\"\n",
    "plt.annotate(line_eq, (0,20), color='red', fontsize=10)\n",
    "plt.annotate(r_value, (0,10), color='red', fontsize=10)\n",
    "\n",
    "# Labels\n",
    "plt.title(\"Max Temp vs. Humidity (Northern Hemisphere)\")\n",
    "plt.xlabel(\"Latitude\")\n",
    "plt.ylabel(\"Max Temp (F)\")\n",
    "print(f\"The r-squared is: {rvalue}\")\n",
    "plt.savefig(\"HumidityVLat-NHemisphere.png\")\n",
    "plt.show()"
   ]
  },
  {
   "cell_type": "markdown",
   "metadata": {},
   "source": [
    "####  Southern Hemisphere - Humidity (%) vs. Latitude Linear Regression"
   ]
  },
  {
   "cell_type": "code",
   "execution_count": 43,
   "metadata": {},
   "outputs": [
    {
     "name": "stdout",
     "output_type": "stream",
     "text": [
      "The r-squared is: 0.18330860382632286\n"
     ]
    },
    {
     "data": {
      "image/png": "[encoded data removed]",
      "text/plain": [
       "<Figure size 432x288 with 1 Axes>"
      ]
     },
     "metadata": {
      "needs_background": "light"
     },
     "output_type": "display_data"
    }
   ],
   "source": [
    "# Calculate the correlation coefficient and linear regression model \n",
    "(slope, intercept,rvalue, pvalue, stderr) = linregress(s_hemisphere[\"Lat\"], s_hemisphere[\"Humidity\"])\n",
    "regress_values = s_hemisphere[\"Lat\"] * slope + intercept\n",
    "\n",
    "# Scatter Plot\n",
    "x_axis = s_hemisphere[\"Lat\"]\n",
    "y_axis = s_hemisphere[\"Humidity\"]\n",
    "plt.scatter(x_axis, y_axis, edgecolor=\"black\")\n",
    "\n",
    "# Regression Line\n",
    "plt.plot(s_hemisphere[\"Lat\"], regress_values, color='red')\n",
    "line_eq = f\"y = {round(slope, 2)}x + {round(intercept, 2)}\"\n",
    "r_value = f\"r = {round(rvalue,2)}\"\n",
    "plt.annotate(line_eq, (-55,35), color='red', fontsize=10)\n",
    "plt.annotate(r_value, (-55,30), color='red', fontsize=10)\n",
    "\n",
    "# Labels\n",
    "plt.title(\"Max Temp vs. Humidity (Southern Hemisphere)\")\n",
    "plt.xlabel(\"Latitude\")\n",
    "plt.ylabel(\"Max Temp (F)\")\n",
    "print(f\"The r-squared is: {rvalue}\")\n",
    "plt.savefig(\"HumidityVLat-SHemisphere.png\")\n",
    "plt.show()"
   ]
  },
  {
   "cell_type": "markdown",
   "metadata": {},
   "source": [
    "####  Northern Hemisphere - Cloudiness (%) vs. Latitude Linear Regression"
   ]
  },
  {
   "cell_type": "code",
   "execution_count": 48,
   "metadata": {},
   "outputs": [
    {
     "name": "stdout",
     "output_type": "stream",
     "text": [
      "The r-squared is: -0.03251686359033089\n"
     ]
    },
    {
     "data": {
      "image/png": "[encoded data removed]",
      "text/plain": [
       "<Figure size 432x288 with 1 Axes>"
      ]
     },
     "metadata": {
      "needs_background": "light"
     },
     "output_type": "display_data"
    }
   ],
   "source": [
    "# Calculate the correlation coefficient and linear regression model \n",
    "(slope, intercept,rvalue, pvalue, stderr) = linregress(n_hemisphere[\"Lat\"], n_hemisphere[\"Cloudiness\"])\n",
    "regress_values = n_hemisphere[\"Lat\"] * slope + intercept\n",
    "\n",
    "# Scatter Plot\n",
    "x_axis = n_hemisphere[\"Lat\"]\n",
    "y_axis = n_hemisphere[\"Cloudiness\"]\n",
    "plt.scatter(x_axis, y_axis, edgecolor=\"black\")\n",
    "\n",
    "# Regression Line\n",
    "plt.plot(n_hemisphere[\"Lat\"], regress_values, color='red')\n",
    "line_eq = f\"y = {round(slope, 2)}x + {round(intercept, 2)}\"\n",
    "r_value = f\"r = {round(rvalue,2)}\"\n",
    "plt.annotate(line_eq, (25,55), color='red', fontsize=10)\n",
    "plt.annotate(r_value, (25,50), color='red', fontsize=10)\n",
    "\n",
    "# Labels\n",
    "plt.title(\"Max Temp vs. Cloudiness (Northern Hemisphere)\")\n",
    "plt.xlabel(\"Latitude\")\n",
    "plt.ylabel(\"Max Temp (F)\")\n",
    "print(f\"The r-squared is: {rvalue}\")\n",
    "plt.savefig(\"CloudinessVLat-NHemisphere.png\")\n",
    "plt.show()"
   ]
  },
  {
   "cell_type": "markdown",
   "metadata": {},
   "source": [
    "####  Southern Hemisphere - Cloudiness (%) vs. Latitude Linear Regression"
   ]
  },
  {
   "cell_type": "code",
   "execution_count": 31,
   "metadata": {},
   "outputs": [
    {
     "name": "stdout",
     "output_type": "stream",
     "text": [
      "The r-squared is: 0.07783499359437623\n"
     ]
    },
    {
     "data": {
      "image/png": "[encoded data removed]",
      "text/plain": [
       "<Figure size 432x288 with 1 Axes>"
      ]
     },
     "metadata": {
      "needs_background": "light"
     },
     "output_type": "display_data"
    }
   ],
   "source": [
    "# Calculate the correlation coefficient and linear regression model \n",
    "(slope, intercept,rvalue, pvalue, stderr) = linregress(s_hemisphere[\"Lat\"], s_hemisphere[\"Cloudiness\"])\n",
    "regress_values = s_hemisphere[\"Lat\"] * slope + intercept\n",
    "\n",
    "# Scatter Plot\n",
    "x_axis = s_hemisphere[\"Lat\"]\n",
    "y_axis = s_hemisphere[\"Cloudiness\"]\n",
    "plt.scatter(x_axis, y_axis, edgecolor=\"black\")\n",
    "\n",
    "# Regression Line\n",
    "plt.plot(s_hemisphere[\"Lat\"], regress_values, color='red')\n",
    "line_eq = f\"y = {round(slope, 2)}x + {round(intercept, 2)}\"\n",
    "r_value = f\"r = {round(rvalue,2)}\"\n",
    "plt.annotate(line_eq, (-55,50), color='red', fontsize=10)\n",
    "plt.annotate(r_value, (-55,40), color='red', fontsize=10)\n",
    "\n",
    "# Labels\n",
    "plt.title(\"Max Temp vs. Cloudiness (Southern Hemisphere)\")\n",
    "plt.xlabel(\"Latitude\")\n",
    "plt.ylabel(\"Max Temp (F)\")\n",
    "print(f\"The r-squared is: {rvalue}\")\n",
    "plt.savefig(\"CloudinessVLat-SHemisphere.png\")\n",
    "plt.show()"
   ]
  },
  {
   "cell_type": "markdown",
   "metadata": {},
   "source": [
    "####  Northern Hemisphere - Wind Speed (mph) vs. Latitude Linear Regression"
   ]
  },
  {
   "cell_type": "code",
   "execution_count": 50,
   "metadata": {
    "scrolled": true
   },
   "outputs": [
    {
     "name": "stdout",
     "output_type": "stream",
     "text": [
      "The r-squared is: 0.0468508307445828\n"
     ]
    },
    {
     "data": {
      "image/png": "[encoded data removed]",
      "text/plain": [
       "<Figure size 432x288 with 1 Axes>"
      ]
     },
     "metadata": {
      "needs_background": "light"
     },
     "output_type": "display_data"
    }
   ],
   "source": [
    "# Calculate the correlation coefficient and linear regression model \n",
    "(slope, intercept,rvalue, pvalue, stderr) = linregress(n_hemisphere[\"Lat\"], n_hemisphere[\"Wind Speed\"])\n",
    "regress_values = n_hemisphere[\"Lat\"] * slope + intercept\n",
    "\n",
    "# Scatter Plot\n",
    "x_axis = n_hemisphere[\"Lat\"]\n",
    "y_axis = n_hemisphere[\"Wind Speed\"]\n",
    "plt.scatter(x_axis, y_axis, edgecolor=\"black\")\n",
    "\n",
    "# Regression Line\n",
    "plt.plot(n_hemisphere[\"Lat\"], regress_values, color='red')\n",
    "line_eq = f\"y = {round(slope, 2)}x + {round(intercept, 2)}\"\n",
    "r_value = f\"r = {round(rvalue,2)}\"\n",
    "plt.annotate(line_eq, (0,35), color='red', fontsize=10)\n",
    "plt.annotate(r_value, (0,32), color='red', fontsize=10)\n",
    "\n",
    "# Labels\n",
    "plt.title(\"Max Temp vs. Wind Speed (Northern Hemisphere)\")\n",
    "plt.xlabel(\"Latitude\")\n",
    "plt.ylabel(\"Max Temp (F)\")\n",
    "print(f\"The r-squared is: {rvalue}\")\n",
    "plt.savefig(\"WindVLat-NHemisphere.png\")\n",
    "plt.show()"
   ]
  },
  {
   "cell_type": "markdown",
   "metadata": {},
   "source": [
    "####  Southern Hemisphere - Wind Speed (mph) vs. Latitude Linear Regression"
   ]
  },
  {
   "cell_type": "code",
   "execution_count": 54,
   "metadata": {},
   "outputs": [
    {
     "name": "stdout",
     "output_type": "stream",
     "text": [
      "The r-squared is: -0.28581453249400496\n"
     ]
    },
    {
     "data": {
      "image/png": "[encoded data removed]",
      "text/plain": [
       "<Figure size 432x288 with 1 Axes>"
      ]
     },
     "metadata": {
      "needs_background": "light"
     },
     "output_type": "display_data"
    }
   ],
   "source": [
    "# Calculate the correlation coefficient and linear regression model \n",
    "(slope, intercept,rvalue, pvalue, stderr) = linregress(s_hemisphere[\"Lat\"], s_hemisphere[\"Wind Speed\"])\n",
    "regress_values = s_hemisphere[\"Lat\"] * slope + intercept\n",
    "\n",
    "# Scatter Plot\n",
    "x_axis = s_hemisphere[\"Lat\"]\n",
    "y_axis = s_hemisphere[\"Wind Speed\"]\n",
    "plt.scatter(x_axis, y_axis, edgecolor=\"black\")\n",
    "\n",
    "# Regression Line\n",
    "plt.plot(s_hemisphere[\"Lat\"], regress_values, color='red')\n",
    "line_eq = f\"y = {round(slope, 2)}x + {round(intercept, 2)}\"\n",
    "r_value = f\"r = {round(rvalue,2)}\"\n",
    "plt.annotate(line_eq, (-25,23), color='red', fontsize=10)\n",
    "plt.annotate(r_value, (-25,21), color='red', fontsize=10)\n",
    "\n",
    "# Labels\n",
    "plt.title(\"Max Temp vs. Wind Speed (Southern Hemisphere)\")\n",
    "plt.xlabel(\"Latitude\")\n",
    "plt.ylabel(\"Max Temp (F)\")\n",
    "print(f\"The r-squared is: {rvalue}\")\n",
    "plt.savefig(\"WindVLat-SHemisphere.png\")\n",
    "plt.show()"
   ]
  }
 ],
 "metadata": {
  "anaconda-cloud": {},
  "kernel_info": {
   "name": "python3"
  },
  "kernelspec": {
   "display_name": "Python [conda env:hw6api] *",
   "language": "python",
   "name": "conda-env-hw6api-py"
  },
  "language_info": {
   "codemirror_mode": {
    "name": "ipython",
    "version": 3
   },
   "file_extension": ".py",
   "mimetype": "text/x-python",
   "name": "python",
   "nbconvert_exporter": "python",
   "pygments_lexer": "ipython3",
   "version": "3.8.3"
  },
  "latex_envs": {
   "LaTeX_envs_menu_present": true,
   "autoclose": false,
   "autocomplete": true,
   "bibliofile": "biblio.bib",
   "cite_by": "apalike",
   "current_citInitial": 1,
   "eqLabelWithNumbers": true,
   "eqNumInitial": 1,
   "hotkeys": {
    "equation": "Ctrl-E",
    "itemize": "Ctrl-I"
   },
   "labels_anchors": false,
   "latex_user_defs": false,
   "report_style_numbering": false,
   "user_envs_cfg": false
  },
  "nteract": {
   "version": "0.12.3"
  }
 },
 "nbformat": 4,
 "nbformat_minor": 2
}
